{
 "cells": [
  {
   "cell_type": "markdown",
   "metadata": {},
   "source": [
    "# Covid-19  update file"
   ]
  },
  {
   "cell_type": "markdown",
   "metadata": {},
   "source": [
    "## Process files for certain dates"
   ]
  },
  {
   "cell_type": "code",
   "execution_count": 1,
   "metadata": {},
   "outputs": [],
   "source": [
    "import datetime as dt\n",
    "from datetime import date, timedelta\n",
    "import pandas as pd\n",
    "%run functions.py\n",
    "%run plots.py\n"
   ]
  },
  {
   "cell_type": "markdown",
   "metadata": {},
   "source": [
    "## Define some variables"
   ]
  },
  {
   "cell_type": "code",
   "execution_count": 2,
   "metadata": {},
   "outputs": [
    {
     "name": "stdout",
     "output_type": "stream",
     "text": [
      "04-06-2020 04-05-2020\n"
     ]
    }
   ],
   "source": [
    "# from my github page\n",
    "baseURL = \"https://raw.githubusercontent.com/bojan-vujic/COVID-19/master/Data/\"\n",
    "\n",
    "# or locally once you download it with covid-19.sh\n",
    "baseURL = \"CSV_data/Github/\"\n",
    "baseURL_local = baseURL\n",
    "\n",
    "#first_date = \"04-01-2020\"\n",
    "# OR\n",
    "\n",
    "d = dt.datetime.today()\n",
    "first_date = d.strftime('%m-%d-%Y')\n",
    "\n",
    "sec_to_last_date = return_yesterday(first_date)\n",
    "print(first_date, sec_to_last_date)"
   ]
  },
  {
   "cell_type": "markdown",
   "metadata": {},
   "source": [
    "## Read new data"
   ]
  },
  {
   "cell_type": "code",
   "execution_count": 3,
   "metadata": {},
   "outputs": [
    {
     "data": {
      "text/html": [
       "<style  type=\"text/css\" >\n",
       "    #T_1c84ca24_77fb_11ea_ac91_38d547cacb11  {\n",
       "          border: 5px solid #7a7;\n",
       "    }    #T_1c84ca24_77fb_11ea_ac91_38d547cacb11 th {\n",
       "          font-size: 16px;\n",
       "    }    #T_1c84ca24_77fb_11ea_ac91_38d547cacb11 td {\n",
       "          font-size: 16px;\n",
       "    }</style><table id=\"T_1c84ca24_77fb_11ea_ac91_38d547cacb11\" ><thead>    <tr>        <th class=\"blank level0\" ></th>        <th class=\"col_heading level0 col0\" >04-03-2020</th>        <th class=\"col_heading level0 col1\" >04-04-2020</th>        <th class=\"col_heading level0 col2\" >04-05-2020</th>    </tr>    <tr>        <th class=\"index_name level0\" >Date\\Country</th>        <th class=\"blank\" ></th>        <th class=\"blank\" ></th>        <th class=\"blank\" ></th>    </tr></thead><tbody>\n",
       "                <tr>\n",
       "                        <th id=\"T_1c84ca24_77fb_11ea_ac91_38d547cacb11level0_row0\" class=\"row_heading level0 row0\" >World</th>\n",
       "                        <td id=\"T_1c84ca24_77fb_11ea_ac91_38d547cacb11row0_col0\" class=\"data row0 col0\" >1096767</td>\n",
       "                        <td id=\"T_1c84ca24_77fb_11ea_ac91_38d547cacb11row0_col1\" class=\"data row0 col1\" >1197859</td>\n",
       "                        <td id=\"T_1c84ca24_77fb_11ea_ac91_38d547cacb11row0_col2\" class=\"data row0 col2\" >1269240</td>\n",
       "            </tr>\n",
       "            <tr>\n",
       "                        <th id=\"T_1c84ca24_77fb_11ea_ac91_38d547cacb11level0_row1\" class=\"row_heading level0 row1\" >US</th>\n",
       "                        <td id=\"T_1c84ca24_77fb_11ea_ac91_38d547cacb11row1_col0\" class=\"data row1 col0\" >275802</td>\n",
       "                        <td id=\"T_1c84ca24_77fb_11ea_ac91_38d547cacb11row1_col1\" class=\"data row1 col1\" >308124</td>\n",
       "                        <td id=\"T_1c84ca24_77fb_11ea_ac91_38d547cacb11row1_col2\" class=\"data row1 col2\" >334730</td>\n",
       "            </tr>\n",
       "            <tr>\n",
       "                        <th id=\"T_1c84ca24_77fb_11ea_ac91_38d547cacb11level0_row2\" class=\"row_heading level0 row2\" >Spain</th>\n",
       "                        <td id=\"T_1c84ca24_77fb_11ea_ac91_38d547cacb11row2_col0\" class=\"data row2 col0\" >119199</td>\n",
       "                        <td id=\"T_1c84ca24_77fb_11ea_ac91_38d547cacb11row2_col1\" class=\"data row2 col1\" >126168</td>\n",
       "                        <td id=\"T_1c84ca24_77fb_11ea_ac91_38d547cacb11row2_col2\" class=\"data row2 col2\" >131646</td>\n",
       "            </tr>\n",
       "            <tr>\n",
       "                        <th id=\"T_1c84ca24_77fb_11ea_ac91_38d547cacb11level0_row3\" class=\"row_heading level0 row3\" >Italy</th>\n",
       "                        <td id=\"T_1c84ca24_77fb_11ea_ac91_38d547cacb11row3_col0\" class=\"data row3 col0\" >119827</td>\n",
       "                        <td id=\"T_1c84ca24_77fb_11ea_ac91_38d547cacb11row3_col1\" class=\"data row3 col1\" >124632</td>\n",
       "                        <td id=\"T_1c84ca24_77fb_11ea_ac91_38d547cacb11row3_col2\" class=\"data row3 col2\" >128948</td>\n",
       "            </tr>\n",
       "            <tr>\n",
       "                        <th id=\"T_1c84ca24_77fb_11ea_ac91_38d547cacb11level0_row4\" class=\"row_heading level0 row4\" >Germany</th>\n",
       "                        <td id=\"T_1c84ca24_77fb_11ea_ac91_38d547cacb11row4_col0\" class=\"data row4 col0\" >91159</td>\n",
       "                        <td id=\"T_1c84ca24_77fb_11ea_ac91_38d547cacb11row4_col1\" class=\"data row4 col1\" >96092</td>\n",
       "                        <td id=\"T_1c84ca24_77fb_11ea_ac91_38d547cacb11row4_col2\" class=\"data row4 col2\" >100123</td>\n",
       "            </tr>\n",
       "    </tbody></table>"
      ],
      "text/plain": [
       "<pandas.io.formats.style.Styler at 0x2240bcc44c8>"
      ]
     },
     "execution_count": 3,
     "metadata": {},
     "output_type": "execute_result"
    }
   ],
   "source": [
    "# new data for first_date\n",
    "data = pd.read_csv(\"CSV_data/Daily_csv/%s.csv\" % first_date, index_col=0)\\\n",
    "        .groupby('Date\\Country').sum().sort_values(['Confirmed'], ascending=False).T\n",
    "\n",
    "# Old data for 1 day before first_date\n",
    "con, red, dea = read_data_from_github(baseURL, sec_to_last_date)\n",
    "\n",
    "Confirmed, Recovered, Deaths = con.T, red.T, dea.T\n",
    "\n",
    "TOP_n_countries = 5\n",
    "Recent_n_days   = 3\n",
    "\n",
    "# Display new data\n",
    "display_data(TOP_n_countries, Recent_n_days, Confirmed.T)"
   ]
  },
  {
   "cell_type": "code",
   "execution_count": 4,
   "metadata": {},
   "outputs": [
    {
     "data": {
      "text/plain": [
       "04-02-2020    5568\n",
       "04-03-2020    6131\n",
       "04-04-2020    6443\n",
       "04-05-2020    6830\n",
       "04-06-2020        \n",
       "Name: Sweden, dtype: object"
      ]
     },
     "execution_count": 4,
     "metadata": {},
     "output_type": "execute_result"
    }
   ],
   "source": [
    "# create a new empty column for \"first_day\"\n",
    "Confirmed[first_date] = \"\"\n",
    "Recovered[first_date] = \"\"\n",
    "Deaths[first_date]    = \"\"\n",
    "\n",
    "Confirmed.T['Sweden'].tail(5)\n"
   ]
  },
  {
   "cell_type": "markdown",
   "metadata": {},
   "source": [
    "# Update"
   ]
  },
  {
   "cell_type": "code",
   "execution_count": 5,
   "metadata": {
    "scrolled": false
   },
   "outputs": [
    {
     "name": "stdout",
     "output_type": "stream",
     "text": [
      "New data for date  04-06-2020\n",
      "C - 82279 81708 China               \n",
      "C -  269  135 Brunei              \n",
      "C -    6    5 Turks and Caicos    \n",
      "C -    2    1 East Timor          \n"
     ]
    }
   ],
   "source": [
    "c = pd.DataFrame(data=Confirmed).T\n",
    "r = pd.DataFrame(data=Recovered).T\n",
    "d = pd.DataFrame(data=Deaths).T\n",
    "\n",
    "print(\"New data for date \", first_date)\n",
    "\n",
    "missing_cols = []\n",
    "\n",
    "for col in data.columns:\n",
    "    if col in c.columns:\n",
    "        new_c, new_d, new_r = data.get(col)\n",
    "        old_c, old_d, old_r = c.at[sec_to_last_date,col], d.at[sec_to_last_date,col], r.at[sec_to_last_date,col]\n",
    "        \n",
    "        # update old_c\n",
    "        if new_c >= old_c:\n",
    "            c.xs(first_date)[col] = new_c\n",
    "        else:\n",
    "            c.xs(first_date)[col] = old_c\n",
    "            print(\"C - %4i %4i %-20s\" % (old_c, new_c, col))\n",
    "        \n",
    "        # update old_d\n",
    "        d.xs(first_date)[col] = new_d\n",
    "        #print(\"D - %4i %4i %-20s\" % (old_d, new_d, col))\n",
    "        \n",
    "        # update old_r\n",
    "        r.xs(first_date)[col] = new_r\n",
    "        #print(\"R - %4i %4i %-20s\" % (old_r, new_r, col))\n",
    "    else:\n",
    "        pass\n",
    "        #print(\"%-20s not found in old data\" % str(col))\n",
    "        \n",
    "\n",
    "# update if missing\n",
    "for col in c.columns:\n",
    "    if col not in data.columns:\n",
    "        c.at[first_date,col] = c.at[sec_to_last_date,col]\n",
    "        r.at[first_date,col] = r.at[sec_to_last_date,col]\n",
    "        d.at[first_date,col] = d.at[sec_to_last_date,col]\n",
    "\n",
    "cc = pd.DataFrame(data=c)\n",
    "rr = pd.DataFrame(data=r)\n",
    "dd = pd.DataFrame(data=d)\n",
    "\n",
    "for col in data.columns:\n",
    "    if col not in cc.columns:\n",
    "        print(col)\n",
    "        cc[col] = [0] * len(c)\n",
    "        cc.at[first_date,col] = data[col][0]\n",
    "    if col not in dd.columns:\n",
    "        #print(col)\n",
    "        dd[col] = [0] * len(d)\n",
    "        dd.at[first_date,col] = data[col][1]\n",
    "    if col not in rr.columns:\n",
    "        #print(col)\n",
    "        rr[col] = [0] * len(r)\n",
    "        rr.at[first_date,col] = data[col][2]\n",
    "\n",
    "ccc = pd.DataFrame(data=cc).T.sort_values([first_date], ascending=False).T\n",
    "rrr = pd.DataFrame(data=rr).T.sort_values([first_date], ascending=False).T\n",
    "ddd = pd.DataFrame(data=dd).T.sort_values([first_date], ascending=False).T\n",
    "\n",
    "pd.set_option('display.max_rows', 200)\n",
    "\n",
    "ccc.T.to_csv(baseURL_local + \"%s_Confirmed.csv\" % first_date)\n",
    "rrr.T.to_csv(baseURL_local + \"%s_Recovered.csv\" % first_date)\n",
    "ddd.T.to_csv(baseURL_local + \"%s_Death.csv\" % first_date)\n"
   ]
  },
  {
   "cell_type": "code",
   "execution_count": null,
   "metadata": {},
   "outputs": [],
   "source": []
  }
 ],
 "metadata": {
  "kernelspec": {
   "display_name": "Python 3",
   "language": "python",
   "name": "python3"
  },
  "language_info": {
   "codemirror_mode": {
    "name": "ipython",
    "version": 3
   },
   "file_extension": ".py",
   "mimetype": "text/x-python",
   "name": "python",
   "nbconvert_exporter": "python",
   "pygments_lexer": "ipython3",
   "version": "3.7.4"
  }
 },
 "nbformat": 4,
 "nbformat_minor": 2
}
