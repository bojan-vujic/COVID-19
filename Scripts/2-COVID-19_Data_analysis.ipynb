{
 "cells": [
  {
   "cell_type": "markdown",
   "metadata": {},
   "source": [
    "# COVID-19 data from GitHub"
   ]
  },
  {
   "cell_type": "markdown",
   "metadata": {},
   "source": [
    "### <font color='green'>https://github.com/bojan-vujic/COVID-19</font>"
   ]
  },
  {
   "cell_type": "markdown",
   "metadata": {},
   "source": [
    "### All the functions needed in this notebook are stored in the files <font color='green'><a href=\"https://github.com/bojan-vujic/COVID-19/blob/master/Python/functions.py\">functions.py</a></font> and <font color='green'><a href=\"https://github.com/bojan-vujic/COVID-19/blob/master/Python/plots.py\">plots.py</a></font>\n",
    "<blockquote>\n",
    " \n",
    "<font color='royalblue'>functions.py</font>\n",
    " * <font color='green'> read_data_from_github(`baseURL`, `date_to_process`): </font> reads the data from github\n",
    "\n",
    " * <font color='green'>display_data(`TOP_n_countries`, `Recent_n_days`, `pd_dataframe`):</font> displays the data for the given pd_dataframe (confirmed, ...)\n",
    " \n",
    " * <font color='green'>display_data_for_selected_countries(`countries_to_display`, `Last_n_days`, `date_to_process`, `pd_dataframe`)</font>\n",
    " \n",
    " * <font color='green'>world_population():</font> returns a pd_dataframe with the population for most of countries\n",
    " \n",
    " * <font color='green'>get_population_area_and_country_ISO_code(`country`, `population_df`):</font> self explanatory.\n",
    " \n",
    " * <font color='green'>data_larger_than_min_cases(`country`, `min_cases`, `pd_dataframe`):</font>\n",
    " \n",
    " * <font color='green'>list_of_countries(`pd_dataframe`):</font> returns a list of countries within a pd_dataframe (confirmed)\n",
    " \n",
    "</blockquote>\n",
    " \n",
    "<blockquote>\n",
    " \n",
    "<font color='royalblue'>plots.py</font>\n",
    " \n",
    " \n",
    " \n",
    "</blockquote>\n",
    "\n",
    "<font color='royalblue'>Use help for a function:</font> it will return a short description.\n",
    "```python\n",
    "help(get_population_area_and_country_ISO_code)\n",
    "```"
   ]
  },
  {
   "cell_type": "markdown",
   "metadata": {},
   "source": [
    "### Import some packages and predefined functions"
   ]
  },
  {
   "cell_type": "code",
   "execution_count": 1,
   "metadata": {},
   "outputs": [
    {
     "name": "stdout",
     "output_type": "stream",
     "text": [
      "04-08-2020\n"
     ]
    }
   ],
   "source": [
    "import pandas as pd\n",
    "import numpy as np\n",
    "import datetime as dt\n",
    "from datetime import date, timedelta\n",
    "%run functions.py\n",
    "%run plots.py\n",
    "\n",
    "# My github page hosting the data\n",
    "baseURL = \"https://raw.githubusercontent.com/bojan-vujic/COVID-19/master/Data/\"\n",
    "\n",
    "# or localy once you download the data\n",
    "#baseURL = \"CSV_data/Github/\"\n",
    "\n",
    "# date for which data will be processed\n",
    "# this can be easily written as a for loop (see next cell)\n",
    "#date_to_process = \"04-05-2020\"      # this date is used on a few instances across the notebook\n",
    "\n",
    "d = dt.datetime.today()\n",
    "date_to_process = d.strftime('%m-%d-%Y')\n",
    "\n",
    "#date_to_process = \"04-05-2020\"\n",
    "print(date_to_process)"
   ]
  },
  {
   "cell_type": "code",
   "execution_count": 2,
   "metadata": {},
   "outputs": [
    {
     "name": "stdout",
     "output_type": "stream",
     "text": [
      "03-31-2020\n",
      "04-01-2020\n",
      "04-02-2020\n",
      "04-03-2020\n",
      "04-04-2020\n",
      "04-05-2020\n",
      "04-06-2020\n",
      "04-07-2020\n"
     ]
    }
   ],
   "source": [
    "import datetime as dt\n",
    "from datetime import date, timedelta\n",
    "\n",
    "first_day = \"03-31-2020\"\n",
    "d1 = dt.datetime.strptime(first_day, '%m-%d-%Y').date()\n",
    "d2 = date.today() - timedelta(days=1)\n",
    "\n",
    "for i in range(10**3):\n",
    "    day = d1 + timedelta(days=i)\n",
    "    if day <= d2:\n",
    "        day = day.strftime('%m-%d-%Y')\n",
    "        print(day)\n"
   ]
  },
  {
   "cell_type": "markdown",
   "metadata": {},
   "source": [
    "### Read data from github page"
   ]
  },
  {
   "cell_type": "code",
   "execution_count": 3,
   "metadata": {
    "scrolled": false
   },
   "outputs": [
    {
     "data": {
      "text/html": [
       "<style  type=\"text/css\" >\n",
       "    #T_8f1f5f0c_7988_11ea_a136_38d547cacb11  {\n",
       "          border: 5px solid #7a7;\n",
       "    }    #T_8f1f5f0c_7988_11ea_a136_38d547cacb11 th {\n",
       "          font-size: 16px;\n",
       "    }    #T_8f1f5f0c_7988_11ea_a136_38d547cacb11 td {\n",
       "          font-size: 16px;\n",
       "    }</style><table id=\"T_8f1f5f0c_7988_11ea_a136_38d547cacb11\" ><thead>    <tr>        <th class=\"blank level0\" ></th>        <th class=\"col_heading level0 col0\" >04-06-2020</th>        <th class=\"col_heading level0 col1\" >04-07-2020</th>        <th class=\"col_heading level0 col2\" >04-08-2020</th>    </tr>    <tr>        <th class=\"index_name level0\" >Date\\Country</th>        <th class=\"blank\" ></th>        <th class=\"blank\" ></th>        <th class=\"blank\" ></th>    </tr></thead><tbody>\n",
       "                <tr>\n",
       "                        <th id=\"T_8f1f5f0c_7988_11ea_a136_38d547cacb11level0_row0\" class=\"row_heading level0 row0\" >World</th>\n",
       "                        <td id=\"T_8f1f5f0c_7988_11ea_a136_38d547cacb11row0_col0\" class=\"data row0 col0\" >1341610</td>\n",
       "                        <td id=\"T_8f1f5f0c_7988_11ea_a136_38d547cacb11row0_col1\" class=\"data row0 col1\" >1424341</td>\n",
       "                        <td id=\"T_8f1f5f0c_7988_11ea_a136_38d547cacb11row0_col2\" class=\"data row0 col2\" >1446879</td>\n",
       "            </tr>\n",
       "            <tr>\n",
       "                        <th id=\"T_8f1f5f0c_7988_11ea_a136_38d547cacb11level0_row1\" class=\"row_heading level0 row1\" >Europe</th>\n",
       "                        <td id=\"T_8f1f5f0c_7988_11ea_a136_38d547cacb11row1_col0\" class=\"data row1 col0\" >703018</td>\n",
       "                        <td id=\"T_8f1f5f0c_7988_11ea_a136_38d547cacb11row1_col1\" class=\"data row1 col1\" >743540</td>\n",
       "                        <td id=\"T_8f1f5f0c_7988_11ea_a136_38d547cacb11row1_col2\" class=\"data row1 col2\" >752485</td>\n",
       "            </tr>\n",
       "            <tr>\n",
       "                        <th id=\"T_8f1f5f0c_7988_11ea_a136_38d547cacb11level0_row2\" class=\"row_heading level0 row2\" >US</th>\n",
       "                        <td id=\"T_8f1f5f0c_7988_11ea_a136_38d547cacb11row2_col0\" class=\"data row2 col0\" >364013</td>\n",
       "                        <td id=\"T_8f1f5f0c_7988_11ea_a136_38d547cacb11row2_col1\" class=\"data row2 col1\" >394587</td>\n",
       "                        <td id=\"T_8f1f5f0c_7988_11ea_a136_38d547cacb11row2_col2\" class=\"data row2 col2\" >400549</td>\n",
       "            </tr>\n",
       "            <tr>\n",
       "                        <th id=\"T_8f1f5f0c_7988_11ea_a136_38d547cacb11level0_row3\" class=\"row_heading level0 row3\" >Spain</th>\n",
       "                        <td id=\"T_8f1f5f0c_7988_11ea_a136_38d547cacb11row3_col0\" class=\"data row3 col0\" >136675</td>\n",
       "                        <td id=\"T_8f1f5f0c_7988_11ea_a136_38d547cacb11row3_col1\" class=\"data row3 col1\" >141942</td>\n",
       "                        <td id=\"T_8f1f5f0c_7988_11ea_a136_38d547cacb11row3_col2\" class=\"data row3 col2\" >146690</td>\n",
       "            </tr>\n",
       "            <tr>\n",
       "                        <th id=\"T_8f1f5f0c_7988_11ea_a136_38d547cacb11level0_row4\" class=\"row_heading level0 row4\" >Italy</th>\n",
       "                        <td id=\"T_8f1f5f0c_7988_11ea_a136_38d547cacb11row4_col0\" class=\"data row4 col0\" >132547</td>\n",
       "                        <td id=\"T_8f1f5f0c_7988_11ea_a136_38d547cacb11row4_col1\" class=\"data row4 col1\" >135586</td>\n",
       "                        <td id=\"T_8f1f5f0c_7988_11ea_a136_38d547cacb11row4_col2\" class=\"data row4 col2\" >135586</td>\n",
       "            </tr>\n",
       "    </tbody></table>"
      ],
      "text/plain": [
       "<pandas.io.formats.style.Styler at 0x198552b2448>"
      ]
     },
     "execution_count": 3,
     "metadata": {},
     "output_type": "execute_result"
    }
   ],
   "source": [
    "confirmed, recovered, death = read_data_from_github(baseURL, date_to_process)\n",
    "\n",
    "TOP_n_countries = 5\n",
    "Last_n_days     = 3\n",
    "\n",
    "display_data(TOP_n_countries, Last_n_days, confirmed)"
   ]
  },
  {
   "cell_type": "code",
   "execution_count": 4,
   "metadata": {},
   "outputs": [
    {
     "data": {
      "text/html": [
       "<style  type=\"text/css\" >\n",
       "    #T_8f22b9e2_7988_11ea_b1e9_38d547cacb11  {\n",
       "          border: 5px solid #7a7;\n",
       "    }    #T_8f22b9e2_7988_11ea_b1e9_38d547cacb11 th {\n",
       "          font-size: 16px;\n",
       "    }    #T_8f22b9e2_7988_11ea_b1e9_38d547cacb11 td {\n",
       "          font-size: 16px;\n",
       "    }</style><table id=\"T_8f22b9e2_7988_11ea_b1e9_38d547cacb11\" ><thead>    <tr>        <th class=\"blank level0\" ></th>        <th class=\"col_heading level0 col0\" >04-06-2020</th>        <th class=\"col_heading level0 col1\" >04-07-2020</th>        <th class=\"col_heading level0 col2\" >04-08-2020</th>    </tr>    <tr>        <th class=\"index_name level0\" >Date\\Country</th>        <th class=\"blank\" ></th>        <th class=\"blank\" ></th>        <th class=\"blank\" ></th>    </tr></thead><tbody>\n",
       "                <tr>\n",
       "                        <th id=\"T_8f22b9e2_7988_11ea_b1e9_38d547cacb11level0_row0\" class=\"row_heading level0 row0\" >World</th>\n",
       "                        <td id=\"T_8f22b9e2_7988_11ea_b1e9_38d547cacb11row0_col0\" class=\"data row0 col0\" >278164</td>\n",
       "                        <td id=\"T_8f22b9e2_7988_11ea_b1e9_38d547cacb11row0_col1\" class=\"data row0 col1\" >301771</td>\n",
       "                        <td id=\"T_8f22b9e2_7988_11ea_b1e9_38d547cacb11row0_col2\" class=\"data row0 col2\" >308621</td>\n",
       "            </tr>\n",
       "            <tr>\n",
       "                        <th id=\"T_8f22b9e2_7988_11ea_b1e9_38d547cacb11level0_row1\" class=\"row_heading level0 row1\" >Europe</th>\n",
       "                        <td id=\"T_8f22b9e2_7988_11ea_b1e9_38d547cacb11row1_col0\" class=\"data row1 col0\" >132053</td>\n",
       "                        <td id=\"T_8f22b9e2_7988_11ea_b1e9_38d547cacb11row1_col1\" class=\"data row1 col1\" >148152</td>\n",
       "                        <td id=\"T_8f22b9e2_7988_11ea_b1e9_38d547cacb11row1_col2\" class=\"data row1 col2\" >154223</td>\n",
       "            </tr>\n",
       "            <tr>\n",
       "                        <th id=\"T_8f22b9e2_7988_11ea_b1e9_38d547cacb11level0_row2\" class=\"row_heading level0 row2\" >China</th>\n",
       "                        <td id=\"T_8f22b9e2_7988_11ea_b1e9_38d547cacb11row2_col0\" class=\"data row2 col0\" >77078</td>\n",
       "                        <td id=\"T_8f22b9e2_7988_11ea_b1e9_38d547cacb11row2_col1\" class=\"data row2 col1\" >77167</td>\n",
       "                        <td id=\"T_8f22b9e2_7988_11ea_b1e9_38d547cacb11row2_col2\" class=\"data row2 col2\" >77279</td>\n",
       "            </tr>\n",
       "            <tr>\n",
       "                        <th id=\"T_8f22b9e2_7988_11ea_b1e9_38d547cacb11level0_row3\" class=\"row_heading level0 row3\" >Spain</th>\n",
       "                        <td id=\"T_8f22b9e2_7988_11ea_b1e9_38d547cacb11row3_col0\" class=\"data row3 col0\" >40437</td>\n",
       "                        <td id=\"T_8f22b9e2_7988_11ea_b1e9_38d547cacb11row3_col1\" class=\"data row3 col1\" >43208</td>\n",
       "                        <td id=\"T_8f22b9e2_7988_11ea_b1e9_38d547cacb11row3_col2\" class=\"data row3 col2\" >48021</td>\n",
       "            </tr>\n",
       "            <tr>\n",
       "                        <th id=\"T_8f22b9e2_7988_11ea_b1e9_38d547cacb11level0_row4\" class=\"row_heading level0 row4\" >Germany</th>\n",
       "                        <td id=\"T_8f22b9e2_7988_11ea_b1e9_38d547cacb11row4_col0\" class=\"data row4 col0\" >28700</td>\n",
       "                        <td id=\"T_8f22b9e2_7988_11ea_b1e9_38d547cacb11row4_col1\" class=\"data row4 col1\" >36081</td>\n",
       "                        <td id=\"T_8f22b9e2_7988_11ea_b1e9_38d547cacb11row4_col2\" class=\"data row4 col2\" >36081</td>\n",
       "            </tr>\n",
       "    </tbody></table>"
      ],
      "text/plain": [
       "<pandas.io.formats.style.Styler at 0x19857afc9c8>"
      ]
     },
     "execution_count": 4,
     "metadata": {},
     "output_type": "execute_result"
    }
   ],
   "source": [
    "display_data(TOP_n_countries, Last_n_days, recovered)"
   ]
  },
  {
   "cell_type": "code",
   "execution_count": 5,
   "metadata": {},
   "outputs": [
    {
     "data": {
      "text/html": [
       "<style  type=\"text/css\" >\n",
       "    #T_8f28104c_7988_11ea_801f_38d547cacb11  {\n",
       "          border: 5px solid #7a7;\n",
       "    }    #T_8f28104c_7988_11ea_801f_38d547cacb11 th {\n",
       "          font-size: 16px;\n",
       "    }    #T_8f28104c_7988_11ea_801f_38d547cacb11 td {\n",
       "          font-size: 16px;\n",
       "    }</style><table id=\"T_8f28104c_7988_11ea_801f_38d547cacb11\" ><thead>    <tr>        <th class=\"blank level0\" ></th>        <th class=\"col_heading level0 col0\" >04-06-2020</th>        <th class=\"col_heading level0 col1\" >04-07-2020</th>        <th class=\"col_heading level0 col2\" >04-08-2020</th>    </tr>    <tr>        <th class=\"index_name level0\" >Date\\Country</th>        <th class=\"blank\" ></th>        <th class=\"blank\" ></th>        <th class=\"blank\" ></th>    </tr></thead><tbody>\n",
       "                <tr>\n",
       "                        <th id=\"T_8f28104c_7988_11ea_801f_38d547cacb11level0_row0\" class=\"row_heading level0 row0\" >World</th>\n",
       "                        <td id=\"T_8f28104c_7988_11ea_801f_38d547cacb11row0_col0\" class=\"data row0 col0\" >74522</td>\n",
       "                        <td id=\"T_8f28104c_7988_11ea_801f_38d547cacb11row0_col1\" class=\"data row0 col1\" >81896</td>\n",
       "                        <td id=\"T_8f28104c_7988_11ea_801f_38d547cacb11row0_col2\" class=\"data row0 col2\" >83087</td>\n",
       "            </tr>\n",
       "            <tr>\n",
       "                        <th id=\"T_8f28104c_7988_11ea_801f_38d547cacb11level0_row1\" class=\"row_heading level0 row1\" >Europe</th>\n",
       "                        <td id=\"T_8f28104c_7988_11ea_801f_38d547cacb11row1_col0\" class=\"data row1 col0\" >53206</td>\n",
       "                        <td id=\"T_8f28104c_7988_11ea_801f_38d547cacb11row1_col1\" class=\"data row1 col1\" >58078</td>\n",
       "                        <td id=\"T_8f28104c_7988_11ea_801f_38d547cacb11row1_col2\" class=\"data row1 col2\" >58903</td>\n",
       "            </tr>\n",
       "            <tr>\n",
       "                        <th id=\"T_8f28104c_7988_11ea_801f_38d547cacb11level0_row2\" class=\"row_heading level0 row2\" >Italy</th>\n",
       "                        <td id=\"T_8f28104c_7988_11ea_801f_38d547cacb11row2_col0\" class=\"data row2 col0\" >16523</td>\n",
       "                        <td id=\"T_8f28104c_7988_11ea_801f_38d547cacb11row2_col1\" class=\"data row2 col1\" >17127</td>\n",
       "                        <td id=\"T_8f28104c_7988_11ea_801f_38d547cacb11row2_col2\" class=\"data row2 col2\" >17127</td>\n",
       "            </tr>\n",
       "            <tr>\n",
       "                        <th id=\"T_8f28104c_7988_11ea_801f_38d547cacb11level0_row3\" class=\"row_heading level0 row3\" >Spain</th>\n",
       "                        <td id=\"T_8f28104c_7988_11ea_801f_38d547cacb11row3_col0\" class=\"data row3 col0\" >13341</td>\n",
       "                        <td id=\"T_8f28104c_7988_11ea_801f_38d547cacb11row3_col1\" class=\"data row3 col1\" >14045</td>\n",
       "                        <td id=\"T_8f28104c_7988_11ea_801f_38d547cacb11row3_col2\" class=\"data row3 col2\" >14555</td>\n",
       "            </tr>\n",
       "            <tr>\n",
       "                        <th id=\"T_8f28104c_7988_11ea_801f_38d547cacb11level0_row4\" class=\"row_heading level0 row4\" >US</th>\n",
       "                        <td id=\"T_8f28104c_7988_11ea_801f_38d547cacb11row4_col0\" class=\"data row4 col0\" >10792</td>\n",
       "                        <td id=\"T_8f28104c_7988_11ea_801f_38d547cacb11row4_col1\" class=\"data row4 col1\" >12748</td>\n",
       "                        <td id=\"T_8f28104c_7988_11ea_801f_38d547cacb11row4_col2\" class=\"data row4 col2\" >12857</td>\n",
       "            </tr>\n",
       "    </tbody></table>"
      ],
      "text/plain": [
       "<pandas.io.formats.style.Styler at 0x19857bba748>"
      ]
     },
     "execution_count": 5,
     "metadata": {},
     "output_type": "execute_result"
    }
   ],
   "source": [
    "display_data(TOP_n_countries, Last_n_days, death)"
   ]
  },
  {
   "cell_type": "markdown",
   "metadata": {},
   "source": [
    "### Display data for selected countries and sort them by number of cases"
   ]
  },
  {
   "cell_type": "code",
   "execution_count": 6,
   "metadata": {
    "scrolled": false
   },
   "outputs": [
    {
     "data": {
      "text/html": [
       "<style  type=\"text/css\" >\n",
       "    #T_8f2f3b34_7988_11ea_b137_38d547cacb11  {\n",
       "          border: 5px solid #7a7;\n",
       "    }    #T_8f2f3b34_7988_11ea_b137_38d547cacb11 th {\n",
       "          font-size: 16px;\n",
       "    }    #T_8f2f3b34_7988_11ea_b137_38d547cacb11 td {\n",
       "          font-size: 16px;\n",
       "    }</style><table id=\"T_8f2f3b34_7988_11ea_b137_38d547cacb11\" ><thead>    <tr>        <th class=\"blank level0\" ></th>        <th class=\"col_heading level0 col0\" >04-06-2020</th>        <th class=\"col_heading level0 col1\" >04-07-2020</th>        <th class=\"col_heading level0 col2\" >04-08-2020</th>    </tr>    <tr>        <th class=\"index_name level0\" >Date\\Country</th>        <th class=\"blank\" ></th>        <th class=\"blank\" ></th>        <th class=\"blank\" ></th>    </tr></thead><tbody>\n",
       "                <tr>\n",
       "                        <th id=\"T_8f2f3b34_7988_11ea_b137_38d547cacb11level0_row0\" class=\"row_heading level0 row0\" >World</th>\n",
       "                        <td id=\"T_8f2f3b34_7988_11ea_b137_38d547cacb11row0_col0\" class=\"data row0 col0\" >1341610</td>\n",
       "                        <td id=\"T_8f2f3b34_7988_11ea_b137_38d547cacb11row0_col1\" class=\"data row0 col1\" >1424341</td>\n",
       "                        <td id=\"T_8f2f3b34_7988_11ea_b137_38d547cacb11row0_col2\" class=\"data row0 col2\" >1446879</td>\n",
       "            </tr>\n",
       "            <tr>\n",
       "                        <th id=\"T_8f2f3b34_7988_11ea_b137_38d547cacb11level0_row1\" class=\"row_heading level0 row1\" >Europe</th>\n",
       "                        <td id=\"T_8f2f3b34_7988_11ea_b137_38d547cacb11row1_col0\" class=\"data row1 col0\" >703018</td>\n",
       "                        <td id=\"T_8f2f3b34_7988_11ea_b137_38d547cacb11row1_col1\" class=\"data row1 col1\" >743540</td>\n",
       "                        <td id=\"T_8f2f3b34_7988_11ea_b137_38d547cacb11row1_col2\" class=\"data row1 col2\" >752485</td>\n",
       "            </tr>\n",
       "            <tr>\n",
       "                        <th id=\"T_8f2f3b34_7988_11ea_b137_38d547cacb11level0_row2\" class=\"row_heading level0 row2\" >US</th>\n",
       "                        <td id=\"T_8f2f3b34_7988_11ea_b137_38d547cacb11row2_col0\" class=\"data row2 col0\" >364013</td>\n",
       "                        <td id=\"T_8f2f3b34_7988_11ea_b137_38d547cacb11row2_col1\" class=\"data row2 col1\" >394587</td>\n",
       "                        <td id=\"T_8f2f3b34_7988_11ea_b137_38d547cacb11row2_col2\" class=\"data row2 col2\" >400549</td>\n",
       "            </tr>\n",
       "            <tr>\n",
       "                        <th id=\"T_8f2f3b34_7988_11ea_b137_38d547cacb11level0_row3\" class=\"row_heading level0 row3\" >Italy</th>\n",
       "                        <td id=\"T_8f2f3b34_7988_11ea_b137_38d547cacb11row3_col0\" class=\"data row3 col0\" >132547</td>\n",
       "                        <td id=\"T_8f2f3b34_7988_11ea_b137_38d547cacb11row3_col1\" class=\"data row3 col1\" >135586</td>\n",
       "                        <td id=\"T_8f2f3b34_7988_11ea_b137_38d547cacb11row3_col2\" class=\"data row3 col2\" >135586</td>\n",
       "            </tr>\n",
       "            <tr>\n",
       "                        <th id=\"T_8f2f3b34_7988_11ea_b137_38d547cacb11level0_row4\" class=\"row_heading level0 row4\" >Russia</th>\n",
       "                        <td id=\"T_8f2f3b34_7988_11ea_b137_38d547cacb11row4_col0\" class=\"data row4 col0\" >6343</td>\n",
       "                        <td id=\"T_8f2f3b34_7988_11ea_b137_38d547cacb11row4_col1\" class=\"data row4 col1\" >7497</td>\n",
       "                        <td id=\"T_8f2f3b34_7988_11ea_b137_38d547cacb11row4_col2\" class=\"data row4 col2\" >8672</td>\n",
       "            </tr>\n",
       "            <tr>\n",
       "                        <th id=\"T_8f2f3b34_7988_11ea_b137_38d547cacb11level0_row5\" class=\"row_heading level0 row5\" >Sweden</th>\n",
       "                        <td id=\"T_8f2f3b34_7988_11ea_b137_38d547cacb11row5_col0\" class=\"data row5 col0\" >7206</td>\n",
       "                        <td id=\"T_8f2f3b34_7988_11ea_b137_38d547cacb11row5_col1\" class=\"data row5 col1\" >7693</td>\n",
       "                        <td id=\"T_8f2f3b34_7988_11ea_b137_38d547cacb11row5_col2\" class=\"data row5 col2\" >7693</td>\n",
       "            </tr>\n",
       "            <tr>\n",
       "                        <th id=\"T_8f2f3b34_7988_11ea_b137_38d547cacb11level0_row6\" class=\"row_heading level0 row6\" >Norway</th>\n",
       "                        <td id=\"T_8f2f3b34_7988_11ea_b137_38d547cacb11row6_col0\" class=\"data row6 col0\" >5763</td>\n",
       "                        <td id=\"T_8f2f3b34_7988_11ea_b137_38d547cacb11row6_col1\" class=\"data row6 col1\" >6086</td>\n",
       "                        <td id=\"T_8f2f3b34_7988_11ea_b137_38d547cacb11row6_col2\" class=\"data row6 col2\" >6086</td>\n",
       "            </tr>\n",
       "            <tr>\n",
       "                        <th id=\"T_8f2f3b34_7988_11ea_b137_38d547cacb11level0_row7\" class=\"row_heading level0 row7\" >Denmark</th>\n",
       "                        <td id=\"T_8f2f3b34_7988_11ea_b137_38d547cacb11row7_col0\" class=\"data row7 col0\" >4681</td>\n",
       "                        <td id=\"T_8f2f3b34_7988_11ea_b137_38d547cacb11row7_col1\" class=\"data row7 col1\" >5071</td>\n",
       "                        <td id=\"T_8f2f3b34_7988_11ea_b137_38d547cacb11row7_col2\" class=\"data row7 col2\" >5386</td>\n",
       "            </tr>\n",
       "            <tr>\n",
       "                        <th id=\"T_8f2f3b34_7988_11ea_b137_38d547cacb11level0_row8\" class=\"row_heading level0 row8\" >Japan</th>\n",
       "                        <td id=\"T_8f2f3b34_7988_11ea_b137_38d547cacb11row8_col0\" class=\"data row8 col0\" >3654</td>\n",
       "                        <td id=\"T_8f2f3b34_7988_11ea_b137_38d547cacb11row8_col1\" class=\"data row8 col1\" >3906</td>\n",
       "                        <td id=\"T_8f2f3b34_7988_11ea_b137_38d547cacb11row8_col2\" class=\"data row8 col2\" >4257</td>\n",
       "            </tr>\n",
       "            <tr>\n",
       "                        <th id=\"T_8f2f3b34_7988_11ea_b137_38d547cacb11level0_row9\" class=\"row_heading level0 row9\" >Finland</th>\n",
       "                        <td id=\"T_8f2f3b34_7988_11ea_b137_38d547cacb11row9_col0\" class=\"data row9 col0\" >2176</td>\n",
       "                        <td id=\"T_8f2f3b34_7988_11ea_b137_38d547cacb11row9_col1\" class=\"data row9 col1\" >2308</td>\n",
       "                        <td id=\"T_8f2f3b34_7988_11ea_b137_38d547cacb11row9_col2\" class=\"data row9 col2\" >2487</td>\n",
       "            </tr>\n",
       "    </tbody></table>"
      ],
      "text/plain": [
       "<pandas.io.formats.style.Styler at 0x19857aceec8>"
      ]
     },
     "execution_count": 6,
     "metadata": {},
     "output_type": "execute_result"
    }
   ],
   "source": [
    "countries_to_display = [\"World\", \"Europe\", \"Sweden\", \"Norway\", \"Finland\", \"Russia\", \"US\", \"Italy\", \"Denmark\", \"Japan\"]\n",
    "\n",
    "# Displayed data will be sorted by number of cases, hence the order of countries in the array and on displayed data\n",
    "Last_n_days = 3\n",
    "\n",
    "display_data_for_selected_countries(countries_to_display, Last_n_days, date_to_process, confirmed)"
   ]
  },
  {
   "cell_type": "markdown",
   "metadata": {},
   "source": [
    "### World population dataframe"
   ]
  },
  {
   "cell_type": "code",
   "execution_count": 7,
   "metadata": {},
   "outputs": [
    {
     "name": "stdout",
     "output_type": "stream",
     "text": [
      "country    = Sweden\n",
      "population = 10099265\n",
      "area       = 450295 km²\n",
      "iso code   = SE\n",
      "\n",
      "['World', 'Europe', 'US', 'Spain', 'Italy', 'France', 'Germany']\n"
     ]
    }
   ],
   "source": [
    "# World population pd_dataframe read from github\n",
    "csv_url = \"https://raw.githubusercontent.com/bojan-vujic/COVID-19/master/World_population.csv\"\n",
    "population = world_population(csv_url)\n",
    "\n",
    "# list of countries\n",
    "countries = list_of_countries(confirmed)\n",
    "\n",
    "# Sanity check\n",
    "# test, print data for Sweden (population, area km2, iso code)\n",
    "test_country = 'Sweden'\n",
    "sverige = get_population_area_and_country_ISO_code(test_country, population)\n",
    "\n",
    "print(\"country    = %s\" % test_country + \"\\npopulation = %i\\narea       = %i km\\u00b2\\niso code   = %s\\n\" % sverige)\n",
    "\n",
    "# print first few countries\n",
    "print(countries[:7])"
   ]
  },
  {
   "cell_type": "markdown",
   "metadata": {},
   "source": [
    "### Make some directories for the data to be stored"
   ]
  },
  {
   "cell_type": "code",
   "execution_count": 8,
   "metadata": {},
   "outputs": [],
   "source": [
    "import os\n",
    "\n",
    "# Create dir \"graphs\"\n",
    "name2   = \"Graphs\"\n",
    "folder1 = 'By_countries'\n",
    "\n",
    "try:\n",
    "    os.makedirs('./%s/%s/%s/' % (name2, date_to_process, folder1))\n",
    "    print('./%s/%s/%s/  : created' % (name2, date_to_process, folder1))\n",
    "except FileExistsError:\n",
    "    pass\n",
    "\n",
    "# folder name: ./Graphs/MM-DD-YYYY/By_countries/"
   ]
  },
  {
   "cell_type": "markdown",
   "metadata": {},
   "source": [
    "### Import some packages"
   ]
  },
  {
   "cell_type": "code",
   "execution_count": 9,
   "metadata": {},
   "outputs": [
    {
     "name": "stdout",
     "output_type": "stream",
     "text": [
      "Populating the interactive namespace from numpy and matplotlib\n"
     ]
    },
    {
     "name": "stderr",
     "output_type": "stream",
     "text": [
      "C:\\Users\\bojan\\Anaconda3\\lib\\site-packages\\IPython\\core\\magics\\pylab.py:160: UserWarning: pylab import has clobbered these variables: ['linalg', 'info', 'power', 'random', 'fft']\n",
      "`%matplotlib` prevents importing * from pylab and numpy\n",
      "  \"\\n`%matplotlib` prevents importing * from pylab and numpy\"\n"
     ]
    }
   ],
   "source": [
    "from __future__ import division\n",
    "import matplotlib.pyplot as plt\n",
    "import matplotlib.dates as mdates\n",
    "%pylab inline\n",
    "\n",
    "from PIL import Image\n",
    "import requests\n",
    "\n",
    "from matplotlib import pylab\n",
    "from pylab import *\n",
    "\n",
    "import warnings\n",
    "import matplotlib.cbook\n",
    "warnings.filterwarnings(\"ignore\",category=matplotlib.cbook.mplDeprecation)\n",
    "\n",
    "from pandas.plotting import register_matplotlib_converters\n",
    "register_matplotlib_converters()\n",
    "    \n",
    "from matplotlib import rc\n",
    "rc('text', usetex=True)\n",
    "rc('font', family='serif')\n",
    "\n",
    "import matplotlib.gridspec as gridspec\n",
    "import matplotlib.offsetbox as offsetbox\n",
    "custom_preamble = {\n",
    "    \"text.usetex\": True,\n",
    "    \"text.latex.preamble\": [\n",
    "        r\"\\usepackage{amsmath}\", # for the align enivironment\n",
    "        ],\n",
    "    }\n",
    "plt.rcParams.update(custom_preamble)\n",
    "\n",
    "######################################################################\n",
    "# Some colors to chose from\n",
    "colors = [\"orange\", \"purple\",        \"darkturquoise\", \"firebrick\",     \"limegreen\",\n",
    "          \"olive\",  \"palevioletred\", \"gold\",          \"darkslategray\", \"mediumslateblue\",\n",
    "          \"teal\",   \"sandybrown\",    \"greenyellow\",   \"khaki\",         \"royalblue\"]\n",
    "\n"
   ]
  },
  {
   "cell_type": "markdown",
   "metadata": {},
   "source": [
    "# Plot data for Top_n_countries"
   ]
  },
  {
   "cell_type": "markdown",
   "metadata": {},
   "source": [
    "### User input settings"
   ]
  },
  {
   "cell_type": "code",
   "execution_count": 10,
   "metadata": {},
   "outputs": [],
   "source": [
    "# Find array for last n days that will be plotted, hence this number can not be set larger than len(confirmed)\n",
    "# if set to let say 10**5, it will still be limitted to len(confirmed)\n",
    "# any integer\n",
    "Last_n_days_country = 4 * 7\n",
    "World_EU_n_days     = 6 * 7    # used for 'World' and 'Europe'\n",
    "\n",
    "# Number of n_x_ticks on x_axis\n",
    "# we want at least n_x_ticks\n",
    "# any integer\n",
    "n_x_ticks = 12\n",
    "\n",
    "# Top n countries to plot, sorted by number of confirmed cases\n",
    "# any integer value\n",
    "TOP_n_countries = 2\n",
    "\n",
    "# format of x-axis labels ()\n",
    "x_axis_fmt = '%b. %d'\n",
    "# Some of the date formats\n",
    "# '%b. %d'   = 'Apr. 08'\n",
    "# '%m %d %Y' = '04 08 2020'\n",
    "# '%m-%d%y'  = '04-08-20'\n",
    "\n",
    "\n",
    "# Scale for x axis: 'lin', 'log'\n",
    "SCALE = 'lin'\n",
    "\n",
    "# Chose which countries to display within this notebook.\n",
    "# If unsure about name of some country, print all the countries and see from there.\n",
    "# any string that is valid country name\n",
    "countries_to_display = ['World', 'Europe', 'US', 'Sweden', 'Italy', 'Spain', 'Germany', 'France', \n",
    "                        'United Kingdom', 'Switzerland', 'Netherlands']\n",
    "\n",
    "# make a plot for each counry, confirmed, recovered, death and active cases for a given number of days\n",
    "make_plot_of_real_data = 'Yes'\n",
    "\n",
    "# Output format of saved plot\n",
    "# 'pdf', 'png', 'jpg'\n",
    "output_format = 'jpg'\n",
    "\n",
    "output_dpi    = 220    #applicable only with 'png' or 'jpg' output formats\n"
   ]
  },
  {
   "cell_type": "markdown",
   "metadata": {},
   "source": [
    "### Process all TOP_n_countries"
   ]
  },
  {
   "cell_type": "code",
   "execution_count": null,
   "metadata": {
    "scrolled": false
   },
   "outputs": [],
   "source": [
    "for i in range(len(countries)):\n",
    "    country = countries[i]\n",
    "    if i < TOP_n_countries:\n",
    "        \n",
    "        Last_n_days = World_EU_n_days if country in ['World', 'Europe'] else Last_n_days_country\n",
    "        \n",
    "        x_time, x_day, y_confirmed = get_data_for_last_n_days(country, Last_n_days, confirmed)\n",
    "        \n",
    "        y_recovered = get_data_for_last_n_days(country, Last_n_days, recovered)[2]\n",
    "        y_death     = get_data_for_last_n_days(country, Last_n_days, death)[2]\n",
    "        active_cases = np.subtract(np.subtract(y_confirmed, y_recovered), y_death)\n",
    "        \n",
    "        # Number on \"date_to_process\"\n",
    "        x_confirmed, x_recovered, x_death = conf_rec_dea(country, date_to_process, confirmed, recovered, death)\n",
    "        \n",
    "        country_population, country_area, country_iso_code = get_population_area_and_country_ISO_code(country, population)\n",
    "        delta_conf, delta_rec, delta_dea = since_one_day_before(country, date_to_process, confirmed, recovered, death)\n",
    "        \n",
    "        image_url = country_image_url(country_iso_code)\n",
    "        flag_url  = country_flag_url(country_iso_code)\n",
    "        \n",
    "        if make_plot_of_real_data == 'Yes':\n",
    "            time_interval = return_time_interval(Last_n_days, n_x_ticks, len(y_confirmed))\n",
    "            \n",
    "            if output_format == 'pdf':\n",
    "                fig_name = './%s/%s/%s/%i_%s_%s.%s' % (name2, date_to_process, folder1, i+1, \\\n",
    "                                               country.replace(\" \",\"_\"), SCALE, output_format)\n",
    "            else:\n",
    "                fig_name = './%s/%s/%s/%s_%s.%s' % (name2, date_to_process, folder1, \\\n",
    "                                               country.replace(\" \",\"_\"), SCALE, output_format)\n",
    "            \n",
    "            make_plot(i, country, x_time, y_confirmed, y_recovered, y_death, active_cases, SCALE, country_population,\\\n",
    "                x_confirmed, x_recovered, x_death, Last_n_days, delta_conf, delta_rec, delta_dea,\\\n",
    "                image_url, flag_url, countries_to_display, fig_name, x_axis_fmt, time_interval, output_format, output_dpi)\n",
    "            print(\"%3i %-25s : saved to \" % (i+1, country), fig_name, \" - %s\" % country_iso_code)\n",
    "        \n",
    "        else:\n",
    "            print(\"%3i %-25s\" % (i+1, country))"
   ]
  },
  {
   "cell_type": "markdown",
   "metadata": {},
   "source": [
    "# Merge multiple pdf plots to a single file"
   ]
  },
  {
   "cell_type": "code",
   "execution_count": null,
   "metadata": {},
   "outputs": [],
   "source": [
    "from PyPDF2 import PdfFileMerger\n",
    "import os.path\n",
    "\n",
    "figures = []\n",
    "for i, country in enumerate(countries):\n",
    "    fig_name = './%s/%s/By_countries/%i_%s_%s.pdf' % (name2, date_to_process, i+1, country.replace(\" \",\"_\"), SCALE)\n",
    "    if os.path.exists(fig_name):\n",
    "        figures.append(str(fig_name))\n",
    "\n",
    "merger = PdfFileMerger()\n",
    "for figure in figures:\n",
    "    merger.append(figure)\n",
    "\n",
    "merger.write(\"%s/Countries_%s_%s.pdf\" % (name2, date_to_process, SCALE))\n",
    "merger.close()\n"
   ]
  }
 ],
 "metadata": {
  "kernelspec": {
   "display_name": "Python 3",
   "language": "python",
   "name": "python3"
  },
  "language_info": {
   "codemirror_mode": {
    "name": "ipython",
    "version": 3
   },
   "file_extension": ".py",
   "mimetype": "text/x-python",
   "name": "python",
   "nbconvert_exporter": "python",
   "pygments_lexer": "ipython3",
   "version": "3.7.4"
  }
 },
 "nbformat": 4,
 "nbformat_minor": 2
}
